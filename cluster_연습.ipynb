{
 "cells": [
  {
   "cell_type": "code",
   "execution_count": 15,
   "id": "96f3e065-3c34-4628-9e93-71b6ecbfe289",
   "metadata": {},
   "outputs": [],
   "source": [
    "from sklearn.datasets import load_iris\n",
    "import pandas as pd\n",
    "iris = load_iris()\n",
    "irisDF = pd.DataFrame(iris.data, columns = ['sepal_length','sepal_width','petal_length','petal_width'])\n",
    "# irisDF['target'] = iris.target"
   ]
  },
  {
   "cell_type": "code",
   "execution_count": 16,
   "id": "1c1423aa-0952-47a8-9be1-3bfc5bfc9a60",
   "metadata": {},
   "outputs": [],
   "source": [
    "from sklearn.cluster import MeanShift\n",
    "meanshift = MeanShift(bandwidth=0.8)\n",
    "meanshift.fit(iris.data)\n",
    "labels = meanshift.predict(iris.data)"
   ]
  },
  {
   "cell_type": "code",
   "execution_count": 17,
   "id": "3cc079b1-0140-4769-978a-22282d81d4b2",
   "metadata": {},
   "outputs": [
    {
     "data": {
      "text/plain": [
       "array([[6.07333333, 2.84444444, 4.59333333, 1.49555556],\n",
       "       [4.97272727, 3.40227273, 1.475     , 0.24545455],\n",
       "       [6.33235294, 2.95294118, 5.23529412, 1.95      ],\n",
       "       [7.8       , 3.8       , 6.55      , 2.1       ]])"
      ]
     },
     "execution_count": 17,
     "metadata": {},
     "output_type": "execute_result"
    }
   ],
   "source": [
    "meanshift.cluster_centers_"
   ]
  },
  {
   "cell_type": "code",
   "execution_count": 18,
   "id": "54d53590-e71a-4547-a7a7-3d271c1f1b0a",
   "metadata": {},
   "outputs": [],
   "source": [
    "irisDF['label'] = labels"
   ]
  },
  {
   "cell_type": "code",
   "execution_count": 19,
   "id": "76293b79-e6a9-4226-9ec2-d9bdef9e2e9f",
   "metadata": {},
   "outputs": [
    {
     "data": {
      "text/plain": [
       "1.0"
      ]
     },
     "execution_count": 19,
     "metadata": {},
     "output_type": "execute_result"
    }
   ],
   "source": [
    "from sklearn.ensemble import RandomForestClassifier\n",
    "from sklearn.model_selection import train_test_split\n",
    "from sklearn.metrics import accuracy_score\n",
    "\n",
    "X_train,X_test,y_train,y_test = train_test_split(iris.data, labels, test_size = 0.2, random_state=42)\n",
    "rf_clf = RandomForestClassifier(max_depth=5, random_state = 0)\n",
    "rf_clf.fit(X_train , y_train)\n",
    "pred = rf_clf.predict(X_test)\n",
    "accuracy_score(y_test,pred)"
   ]
  },
  {
   "cell_type": "code",
   "execution_count": 21,
   "id": "6321f915-bee7-44a6-b0a5-248597f706cf",
   "metadata": {},
   "outputs": [],
   "source": [
    "from sklearn.cluster import KMeans\n",
    "kmeans = KMeans(n_clusters=3,init='k-means++',max_iter=200,random_state=0)\n",
    "cluster_label = kmeans.fit_predict(iris.data)"
   ]
  },
  {
   "cell_type": "code",
   "execution_count": 24,
   "id": "f3b8cb32-8391-4acf-9650-50e6381fef29",
   "metadata": {},
   "outputs": [
    {
     "data": {
      "text/plain": [
       "0.9333333333333333"
      ]
     },
     "execution_count": 24,
     "metadata": {},
     "output_type": "execute_result"
    }
   ],
   "source": [
    "\n",
    "X_train,X_test,y_train,y_test = train_test_split(iris.data, cluster_label, test_size = 0.2, random_state=42)\n",
    "rf_clf = RandomForestClassifier(max_depth=5, random_state = 0)\n",
    "rf_clf.fit(X_train , y_train)\n",
    "pred = rf_clf.predict(X_test)\n",
    "accuracy_score(y_test,pred)"
   ]
  },
  {
   "cell_type": "code",
   "execution_count": null,
   "id": "b7230031-c8cc-40ec-92fd-3ec1f61d859b",
   "metadata": {},
   "outputs": [],
   "source": []
  }
 ],
 "metadata": {
  "kernelspec": {
   "display_name": "autoen",
   "language": "python",
   "name": "autoen"
  },
  "language_info": {
   "codemirror_mode": {
    "name": "ipython",
    "version": 3
   },
   "file_extension": ".py",
   "mimetype": "text/x-python",
   "name": "python",
   "nbconvert_exporter": "python",
   "pygments_lexer": "ipython3",
   "version": "3.9.15"
  }
 },
 "nbformat": 4,
 "nbformat_minor": 5
}
