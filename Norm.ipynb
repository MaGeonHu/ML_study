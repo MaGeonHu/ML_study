{
 "cells": [
  {
   "cell_type": "markdown",
   "id": "78fef293-c1f5-49c4-b064-5fabd4fb52f6",
   "metadata": {},
   "source": [
    "L1규제를 적용해 회귀계수가 0이 되는 얘들을 제거하는 방식으로 feature selection을 할 수 있다.\n",
    "즉 feature을 선택할경우 L1정규화를 사용한 결과를 통해 좋은 결과를 볼 수 있다.\n",
    "\n",
    " * min{RSS + r|W|2}\n",
    " * L2 NORM w2  (원) \n",
    " * L1 NORM |W| (마름모) - feature selction"
   ]
  },
  {
   "cell_type": "code",
   "execution_count": null,
   "id": "457c5109-5b54-409d-bc0f-01999a0233e9",
   "metadata": {},
   "outputs": [],
   "source": []
  }
 ],
 "metadata": {
  "kernelspec": {
   "display_name": "Python 3 (ipykernel)",
   "language": "python",
   "name": "python3"
  },
  "language_info": {
   "codemirror_mode": {
    "name": "ipython",
    "version": 3
   },
   "file_extension": ".py",
   "mimetype": "text/x-python",
   "name": "python",
   "nbconvert_exporter": "python",
   "pygments_lexer": "ipython3",
   "version": "3.11.5"
  }
 },
 "nbformat": 4,
 "nbformat_minor": 5
}
