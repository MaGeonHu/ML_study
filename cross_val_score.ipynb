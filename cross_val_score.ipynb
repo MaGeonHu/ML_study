{
 "cells": [
  {
   "cell_type": "markdown",
   "id": "b7fd28dd-0523-44a4-aa54-4da91894bfac",
   "metadata": {},
   "source": [
    "#### sklearn.model_selection.cross_val_score\n",
    "* sklearn.model_selection.cross_val_score(estimator, X, y=None, *, groups=None, scoring=None, cv=None, n_jobs=None, verbose=0, fit_params=None, pre_dispatch='2*n_jobs', error_score=nan)"
   ]
  },
  {
   "cell_type": "code",
   "execution_count": 6,
   "id": "4b5bd605-9c44-4437-a9ce-83505a96dea6",
   "metadata": {},
   "outputs": [
    {
     "data": {
      "text/plain": [
       "0.96"
      ]
     },
     "execution_count": 6,
     "metadata": {},
     "output_type": "execute_result"
    }
   ],
   "source": [
    "from sklearn.model_selection import cross_val_score\n",
    "from sklearn.tree import DecisionTreeClassifier\n",
    "from sklearn.datasets import load_iris\n",
    "import numpy as np\n",
    "iris = load_iris()\n",
    "\n",
    "X = iris.data\n",
    "y = iris.target\n",
    "\n",
    "dt_clf = DecisionTreeClassifier(random_state = 42)\n",
    "\n",
    "np.mean(cross_val_score(dt_clf, X, y, cv=3))"
   ]
  },
  {
   "cell_type": "code",
   "execution_count": 9,
   "id": "dc529721-bbbc-4e25-afbc-f045ea32b4c1",
   "metadata": {},
   "outputs": [],
   "source": [
    "# GridSearch : grid search를 사용해 교차검정을하여 최적의 파라미터를 찾는다.\n",
    "# 즉 cross validation을 통해 최적의 파라미터를 찾을 수 있으며 overgitting을 확인 할 수 있다."
   ]
  },
  {
   "cell_type": "code",
   "execution_count": null,
   "id": "49a1a7c3-3a86-41a2-8f17-c8ef2d0bbc67",
   "metadata": {},
   "outputs": [],
   "source": []
  }
 ],
 "metadata": {
  "kernelspec": {
   "display_name": "Python 3 (ipykernel)",
   "language": "python",
   "name": "python3"
  },
  "language_info": {
   "codemirror_mode": {
    "name": "ipython",
    "version": 3
   },
   "file_extension": ".py",
   "mimetype": "text/x-python",
   "name": "python",
   "nbconvert_exporter": "python",
   "pygments_lexer": "ipython3",
   "version": "3.11.5"
  }
 },
 "nbformat": 4,
 "nbformat_minor": 5
}
