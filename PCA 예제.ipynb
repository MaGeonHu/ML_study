{
 "cells": [
  {
   "cell_type": "code",
   "execution_count": 1,
   "id": "a8407543-71b1-4fcc-9b3e-793d41870963",
   "metadata": {},
   "outputs": [],
   "source": [
    "import numpy as np\n",
    "import pandas as pd\n",
    "import seaborn as sns\n",
    "import matplotlib.pyplot as plt\n",
    "%matplotlib inline"
   ]
  },
  {
   "cell_type": "code",
   "execution_count": 2,
   "id": "84b721ef-23c3-4231-9157-7e3f9a865531",
   "metadata": {},
   "outputs": [],
   "source": [
    "df = sns.load_dataset(\"iris\")"
   ]
  },
  {
   "cell_type": "code",
   "execution_count": 3,
   "id": "6919b1f4-9c56-453e-9b7e-f7c77b8b7e55",
   "metadata": {},
   "outputs": [],
   "source": [
    "#X is feature vectors\n",
    "X = df[['sepal_length', 'sepal_width', 'petal_length', 'petal_width']]\n",
    "\n",
    "# y is labels\n",
    "Y = df[['species']]"
   ]
  },
  {
   "cell_type": "code",
   "execution_count": 4,
   "id": "aedef5a0-b4ce-4203-9b46-46f4cdc62402",
   "metadata": {},
   "outputs": [],
   "source": [
    "from sklearn.preprocessing import StandardScaler\n",
    "\n",
    "X_scaled = StandardScaler().fit_transform(X)"
   ]
  },
  {
   "cell_type": "code",
   "execution_count": 5,
   "id": "fbd5c47a-8187-4531-9145-d623f27e21dc",
   "metadata": {},
   "outputs": [
    {
     "name": "stdout",
     "output_type": "stream",
     "text": [
      "[[ 0.68569351 -0.042434    1.27431544  0.51627069]\n",
      " [-0.042434    0.18997942 -0.32965638 -0.12163937]\n",
      " [ 1.27431544 -0.32965638  3.11627785  1.2956094 ]\n",
      " [ 0.51627069 -0.12163937  1.2956094   0.58100626]]\n"
     ]
    }
   ],
   "source": [
    "features =X.T  # X 데이터는 150 × 4 이라면,\n",
    "               # feature 는 4 × 150 이다.\n",
    "\n",
    "covariance_matrix = np.cov(features)\n",
    "print(covariance_matrix)"
   ]
  },
  {
   "cell_type": "code",
   "execution_count": 6,
   "id": "f4f9c607-5456-407e-92ae-64ce97a4681a",
   "metadata": {},
   "outputs": [
    {
     "name": "stdout",
     "output_type": "stream",
     "text": [
      "\n",
      "Eigenvalues \n",
      "[4.22824171 0.24267075 0.0782095  0.02383509] \n",
      "\n",
      "Eigenvectros \n",
      "[[ 0.36138659 -0.65658877 -0.58202985  0.31548719]\n",
      " [-0.08452251 -0.73016143  0.59791083 -0.3197231 ]\n",
      " [ 0.85667061  0.17337266  0.07623608 -0.47983899]\n",
      " [ 0.3582892   0.07548102  0.54583143  0.75365743]]\n"
     ]
    }
   ],
   "source": [
    "values, vectors = np.linalg.eig(covariance_matrix)\n",
    "\n",
    "print('\\nEigenvalues \\n%s '% values[:])\n",
    "print('\\nEigenvectros \\n%s'  %  vectors[:])"
   ]
  },
  {
   "cell_type": "code",
   "execution_count": 11,
   "id": "c0fe6fcc-c41e-4347-b531-3c89048ac809",
   "metadata": {},
   "outputs": [
    {
     "data": {
      "text/plain": [
       "0.9776852063187949"
      ]
     },
     "execution_count": 11,
     "metadata": {},
     "output_type": "execute_result"
    }
   ],
   "source": [
    "(values[0]+values[1])/values.sum()"
   ]
  },
  {
   "cell_type": "code",
   "execution_count": 13,
   "id": "8d6af79c-095c-44b7-a1f9-6361257e911c",
   "metadata": {},
   "outputs": [],
   "source": [
    "u1 = values[0] * vectors[0]"
   ]
  },
  {
   "cell_type": "code",
   "execution_count": null,
   "id": "41fe6c02-3e65-4a93-8568-aea396e7385e",
   "metadata": {},
   "outputs": [],
   "source": []
  }
 ],
 "metadata": {
  "kernelspec": {
   "display_name": "Python 3 (ipykernel)",
   "language": "python",
   "name": "python3"
  },
  "language_info": {
   "codemirror_mode": {
    "name": "ipython",
    "version": 3
   },
   "file_extension": ".py",
   "mimetype": "text/x-python",
   "name": "python",
   "nbconvert_exporter": "python",
   "pygments_lexer": "ipython3",
   "version": "3.11.5"
  }
 },
 "nbformat": 4,
 "nbformat_minor": 5
}
