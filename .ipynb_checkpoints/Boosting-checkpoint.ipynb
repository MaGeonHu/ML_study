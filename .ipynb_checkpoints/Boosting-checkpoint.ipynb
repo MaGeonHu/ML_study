{
 "cells": [
  {
   "cell_type": "markdown",
   "id": "c8781794-65bd-417f-92a0-6e05fd4181fe",
   "metadata": {},
   "source": [
    "#### sklearn.ensemble.AdaBoostClassifier\n",
    "* class sklearn.ensemble.AdaBoostClassifier(estimator=None, *, n_estimators=50, learning_rate=1.0, algorithm='SAMME.R', random_state=None)"
   ]
  },
  {
   "cell_type": "code",
   "execution_count": 11,
   "id": "a4422c65-f778-4a92-b084-57898418c4de",
   "metadata": {},
   "outputs": [
    {
     "name": "stdout",
     "output_type": "stream",
     "text": [
      "Dogruluk: 1.0\n"
     ]
    }
   ],
   "source": [
    "from sklearn.ensemble import AdaBoostClassifier\n",
    "from sklearn.datasets import load_iris\n",
    "from sklearn.model_selection import train_test_split\n",
    "from sklearn.metrics import accuracy_score \n",
    "\n",
    "iris = load_iris()\n",
    "X = iris.data\n",
    "y = iris.target\n",
    "X_train, X_test, y_train, y_test = train_test_split(X, y, test_size=0.3, random_state = 42)\n",
    "\n",
    "# adaboost sınıflandırıcı objesini oluşturma\n",
    "abc = AdaBoostClassifier(n_estimators=50, learning_rate=1, random_state = 42)\n",
    "# abc =AdaBoostClassifier(n_estimators=50, base_estimator=svc,learning_rate=1)\n",
    "\n",
    "# Adaboost Sınıflandırıcı Eğitimi\n",
    "model = abc.fit(X_train, y_train)\n",
    "\n",
    "# Test veri seti için modeli çalıştıralım\n",
    "y_tahmin = model.predict(X_test)\n",
    "\n",
    "# Modelin Doğruluk oranı\n",
    "print(\"Dogruluk:\",accuracy_score(y_test, y_tahmin))"
   ]
  },
  {
   "cell_type": "code",
   "execution_count": 15,
   "id": "57159df4-0f86-4384-984c-1124b5d68ff1",
   "metadata": {},
   "outputs": [],
   "source": [
    "## Ada는 max_depth가 1이고 약한 분류기이며 오분류한 대상(weak learner)으로 분기하며 학습시킨다."
   ]
  },
  {
   "cell_type": "code",
   "execution_count": 16,
   "id": "9e200900-8ae1-441c-aa22-e396399ec0ed",
   "metadata": {},
   "outputs": [],
   "source": [
    "## gbm은 첫번째 분기에서 나온 residual error(잔차)의 값을 통해 다시 학습시킨다 즉 오차값을 계속해서 학습시키며 에러값을 감소시키는 방향으로 촘촘히 학습시키며 시간이 오래 걸린다"
   ]
  },
  {
   "cell_type": "code",
   "execution_count": 18,
   "id": "bdae5389-1f7b-4700-b877-2fd9b7ec0af7",
   "metadata": {},
   "outputs": [],
   "source": [
    "## xgboost , lightgbm error값을 error(weak learner) 적당히 대입하게 해줘(optimize) gbm과 ada에 비해 시간이 빠르다."
   ]
  },
  {
   "cell_type": "code",
   "execution_count": 19,
   "id": "8ee114b7-5618-46f6-b2e1-1db09aaa39eb",
   "metadata": {},
   "outputs": [
    {
     "data": {
      "text/plain": [
       "1.0"
      ]
     },
     "execution_count": 19,
     "metadata": {},
     "output_type": "execute_result"
    }
   ],
   "source": [
    "from sklearn.ensemble import GradientBoostingClassifier\n",
    "\n",
    "gb_clf = GradientBoostingClassifier()\n",
    "\n",
    "model = gb_clf.fit(X_train,y_train)\n",
    "y_pred = model.predict(X_test)\n",
    "\n",
    "accuracy_score(y_test,y_pred)"
   ]
  },
  {
   "cell_type": "markdown",
   "id": "aa562318-3603-412a-bd79-c9b936edf862",
   "metadata": {},
   "source": [
    "#### lightgbm.LGBMClassifier\r",
    "* classlightgbm.LGBMClassifier(boosting_type='gbdt', num_leaves=31, max_depth=-1, learning_rate=0.1, n_estimators=100, subsample_for_bin=200000, objective=None, class_weight=None, min_split_gain=0.0, min_child_weight=0.001, min_child_samples=20, subsample=1.0, subsample_freq=0, colsample_bytree=1.0, reg_alpha=0.0, reg_lambda=0.0, random_state=None, n_jobs=None, importance_type='split', **kwargs)\n"
   ]
  },
  {
   "cell_type": "code",
   "execution_count": null,
   "id": "d173c056-da78-4fba-9293-13f6d50e6e9e",
   "metadata": {},
   "outputs": [],
   "source": []
  }
 ],
 "metadata": {
  "kernelspec": {
   "display_name": "Python 3 (ipykernel)",
   "language": "python",
   "name": "python3"
  },
  "language_info": {
   "codemirror_mode": {
    "name": "ipython",
    "version": 3
   },
   "file_extension": ".py",
   "mimetype": "text/x-python",
   "name": "python",
   "nbconvert_exporter": "python",
   "pygments_lexer": "ipython3",
   "version": "3.11.5"
  }
 },
 "nbformat": 4,
 "nbformat_minor": 5
}
