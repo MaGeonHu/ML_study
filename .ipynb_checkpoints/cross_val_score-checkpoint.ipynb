{
 "cells": [
  {
   "cell_type": "markdown",
   "id": "b7fd28dd-0523-44a4-aa54-4da91894bfac",
   "metadata": {},
   "source": [
    "#### sklearn.model_selection.cross_val_score\n",
    "* sklearn.model_selection.cross_val_score(estimator, X, y=None, *, groups=None, scoring=None, cv=None, n_jobs=None, verbose=0, fit_params=None, pre_dispatch='2*n_jobs', error_score=nan)"
   ]
  },
  {
   "cell_type": "code",
   "execution_count": 6,
   "id": "4b5bd605-9c44-4437-a9ce-83505a96dea6",
   "metadata": {},
   "outputs": [
    {
     "data": {
      "text/plain": [
       "0.96"
      ]
     },
     "execution_count": 6,
     "metadata": {},
     "output_type": "execute_result"
    }
   ],
   "source": [
    "from sklearn.model_selection import cross_val_score\n",
    "from sklearn.tree import DecisionTreeClassifier\n",
    "from sklearn.datasets import load_iris\n",
    "import numpy as np\n",
    "iris = load_iris()\n",
    "\n",
    "X = iris.data\n",
    "y = iris.target\n",
    "\n",
    "dt_clf = DecisionTreeClassifier(random_state = 42)\n",
    "\n",
    "np.mean(cross_val_score(dt_clf, X, y, cv=3))"
   ]
  },
  {
   "cell_type": "markdown",
   "id": "98b94f7a-476f-4c07-8dee-7269f481105e",
   "metadata": {},
   "source": [
    "데이터 셋을 학습하고 평가하기 위해 train과 test로 나눈다.\n",
    "test로 평가하기전에 train에서 데이터를 나눠 validation 데이터로 검정한다.\n",
    "여러번 검정하여 데이터의 과적합 유무를 체크하거나 더 좋은 학습 데이터 셋을 결정하기 위해 k-fold cross validation을 한다.\n",
    "분류의 경우 k-fold 를 하면 순차로 되어있는 데이터일때 특정 클래스가 들어가지 않아 정확도가 0이되는 경우가 발생해\n",
    "statified cross validion 을 해야한다. 회귀일 경우에는 stratified를 하지 않아도 된다.\n",
    "\n"
   ]
  },
  {
   "cell_type": "code",
   "execution_count": 10,
   "id": "dc529721-bbbc-4e25-afbc-f045ea32b4c1",
   "metadata": {},
   "outputs": [],
   "source": [
    "# GridSearch : grid search를 사용해 교차검정을하여 최적의 파라미터를 찾는다.\n",
    "# 즉 cross validation을 통해 최적의 파라미터를 찾을 수 있으며 overgitting을 확인 할 수 있다."
   ]
  },
  {
   "cell_type": "code",
   "execution_count": null,
   "id": "49a1a7c3-3a86-41a2-8f17-c8ef2d0bbc67",
   "metadata": {},
   "outputs": [],
   "source": []
  }
 ],
 "metadata": {
  "kernelspec": {
   "display_name": "Python 3 (ipykernel)",
   "language": "python",
   "name": "python3"
  },
  "language_info": {
   "codemirror_mode": {
    "name": "ipython",
    "version": 3
   },
   "file_extension": ".py",
   "mimetype": "text/x-python",
   "name": "python",
   "nbconvert_exporter": "python",
   "pygments_lexer": "ipython3",
   "version": "3.11.5"
  }
 },
 "nbformat": 4,
 "nbformat_minor": 5
}
