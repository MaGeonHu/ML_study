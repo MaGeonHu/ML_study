{
 "cells": [
  {
   "cell_type": "markdown",
   "id": "56510dfb-f183-4c79-9e32-5eedc02f288f",
   "metadata": {},
   "source": [
    "#### sklearn.model_selection.KFold\n",
    "* class sklearn.model_selection.KFold(n_splits=5, *, shuffle=False, random_state=None)\r\n"
   ]
  },
  {
   "cell_type": "raw",
   "id": "54192df6-f660-45e9-9986-4cabd26fb413",
   "metadata": {},
   "source": [
    "n_splitsint, default=5\n",
    "Number of folds. Must be at least 2.\n",
    "\n",
    "Changed in version 0.22: n_splits default value changed from 3 to 5.\n",
    "\n",
    "shufflebool, default=False\n",
    "Whether to shuffle the data before splitting into batches. Note that the samples within each split will not be shuffled.\n",
    "\n",
    "random_stateint, RandomState instance or None, default=None\n",
    "When shuffle is True, random_state affects the ordering of the indices, which controls the randomness of each fold. Otherwise, this parameter has no effect. Pass an int for reproducible output across multiple function calls. See Glossary."
   ]
  },
  {
   "cell_type": "code",
   "execution_count": 1,
   "id": "212a7122-f335-45ba-8e87-7c40c8a99478",
   "metadata": {},
   "outputs": [],
   "source": [
    "from sklearn.model_selection import KFold\n",
    "from sklearn.tree import DecisionTreeClassifier\n",
    "from sklearn.datasets import load_iris\n",
    "from sklearn.metrics import accuracy_score"
   ]
  },
  {
   "cell_type": "code",
   "execution_count": 9,
   "id": "9f459fd8-79b3-4b83-be5c-2a77b3b9ee23",
   "metadata": {},
   "outputs": [
    {
     "data": {
      "text/plain": [
       "[1.0, 1.0, 0.8333333333333334, 0.9333333333333333, 0.8]"
      ]
     },
     "execution_count": 9,
     "metadata": {},
     "output_type": "execute_result"
    }
   ],
   "source": [
    "iris = load_iris()\n",
    "\n",
    "X = iris.data\n",
    "y = iris.target\n",
    "\n",
    "# 5fold\n",
    "kf = KFold(n_splits = 5)\n",
    "val_list = []\n",
    "\n",
    "for train_set, val_set in kf.split(X):\n",
    "    X_train,X_val = X[train_set] , X[val_set] \n",
    "    y_train,y_val = y[train_set] , y[val_set] \n",
    "    dt_clf = DecisionTreeClassifier(random_state = 42)\n",
    "    dt_clf.fit(X_train,y_train)\n",
    "    pred = dt_clf.predict(X_val)\n",
    "    accuracy = accuracy_score(y_val,pred)\n",
    "    val_list.append(accuracy)\n",
    "\n",
    "val_list\n"
   ]
  },
  {
   "cell_type": "code",
   "execution_count": 10,
   "id": "a0878b99-1701-4301-8785-5fbc7535ed3a",
   "metadata": {},
   "outputs": [
    {
     "data": {
      "text/plain": [
       "0.9133333333333333"
      ]
     },
     "execution_count": 10,
     "metadata": {},
     "output_type": "execute_result"
    }
   ],
   "source": [
    "import numpy as np\n",
    "np.mean(val_list)"
   ]
  },
  {
   "cell_type": "code",
   "execution_count": 15,
   "id": "12bfaa8c-9399-4d97-b7c8-cf7034df98ab",
   "metadata": {},
   "outputs": [
    {
     "data": {
      "text/plain": [
       "0.0"
      ]
     },
     "execution_count": 15,
     "metadata": {},
     "output_type": "execute_result"
    }
   ],
   "source": [
    "iris = load_iris()\n",
    "\n",
    "X = iris.data\n",
    "y = iris.target\n",
    "\n",
    "# 3fold\n",
    "kf = KFold(n_splits = 3)\n",
    "val_list = []\n",
    "\n",
    "for train_set, val_set in kf.split(X):\n",
    "    X_train,X_val = X[train_set] , X[val_set] \n",
    "    y_train,y_val = y[train_set] , y[val_set] \n",
    "    dt_clf = DecisionTreeClassifier(random_state = 42)\n",
    "    dt_clf.fit(X_train,y_train)\n",
    "    pred = dt_clf.predict(X_val)\n",
    "    accuracy = accuracy_score(y_val,pred)\n",
    "    val_list.append(accuracy)\n",
    "\n",
    "val_list\n",
    "\n",
    "import numpy as np\n",
    "np.mean(val_list)"
   ]
  },
  {
   "cell_type": "code",
   "execution_count": 19,
   "id": "b3448ac3-6939-473e-997b-ffb56e942664",
   "metadata": {},
   "outputs": [
    {
     "name": "stdout",
     "output_type": "stream",
     "text": [
      "[0 0 0 0 0 0 0 0 0 0 0 0 0 0 0 0 0 0 0 0 0 0 0 0 0 0 0 0 0 0 0 0 0 0 0 0 0\n",
      " 0 0 0 0 0 0 0 0 0 0 0 0 0]\n",
      "[1 1 1 1 1 1 1 1 1 1 1 1 1 1 1 1 1 1 1 1 1 1 1 1 1 1 1 1 1 1 1 1 1 1 1 1 1\n",
      " 1 1 1 1 1 1 1 1 1 1 1 1 1]\n",
      "[2 2 2 2 2 2 2 2 2 2 2 2 2 2 2 2 2 2 2 2 2 2 2 2 2 2 2 2 2 2 2 2 2 2 2 2 2\n",
      " 2 2 2 2 2 2 2 2 2 2 2 2 2]\n"
     ]
    }
   ],
   "source": [
    "kf = KFold(n_splits = 3)\n",
    "\n",
    "for train_set, val_set in kf.split(X):\n",
    "    print(y[val_set])"
   ]
  },
  {
   "cell_type": "code",
   "execution_count": 20,
   "id": "ab7f874f-3de1-4e10-818e-cf0fd3c7ebed",
   "metadata": {},
   "outputs": [],
   "source": [
    "# classification에서 kfold를 할시 순서대로 뽑을시 데이터가 불균형하게 뽑힐 수 있어\n",
    "# stratified k 폴드를 사용해야한다."
   ]
  },
  {
   "cell_type": "markdown",
   "id": "43d0fd1f-a987-46db-a3a6-50c7ebcba3c6",
   "metadata": {},
   "source": [
    "#### sklearn.model_selection.StratifiedKFold\n",
    "* class sklearn.model_selection.StratifiedKFold(n_splits=5, *, shuffle=False, random_state=None)"
   ]
  },
  {
   "cell_type": "code",
   "execution_count": 42,
   "id": "656370a3-460f-4cdd-a5df-e09c8988d27d",
   "metadata": {},
   "outputs": [
    {
     "data": {
      "text/plain": [
       "0.96"
      ]
     },
     "execution_count": 42,
     "metadata": {},
     "output_type": "execute_result"
    }
   ],
   "source": [
    "from sklearn.model_selection import StratifiedKFold\n",
    "from sklearn.tree import DecisionTreeClassifier\n",
    "from sklearn.datasets import load_iris\n",
    "from sklearn.metrics import accuracy_score\n",
    "import pandas as pd\n",
    "iris = load_iris()\n",
    "\n",
    "X = iris.data\n",
    "y = iris.target\n",
    "\n",
    "# 3fold\n",
    "skf = StratifiedKFold(n_splits = 3)\n",
    "val_list = []\n",
    "\n",
    "for train_set, val_set in skf.split(X,y):\n",
    "    X_train,X_val = X[train_set] , X[val_set] \n",
    "    y_train,y_val = y[train_set] , y[val_set] \n",
    "    dt_clf = DecisionTreeClassifier(random_state = 42)\n",
    "    dt_clf.fit(X_train,y_train)\n",
    "    pred = dt_clf.predict(X_val)\n",
    "    accuracy = accuracy_score(y_val,pred)\n",
    "    val_list.append(accuracy)\n",
    "\n",
    "np.mean(val_list)"
   ]
  },
  {
   "cell_type": "code",
   "execution_count": null,
   "id": "51d20138-250e-49df-a1e4-9b41d90a91e2",
   "metadata": {},
   "outputs": [],
   "source": []
  }
 ],
 "metadata": {
  "kernelspec": {
   "display_name": "Python 3 (ipykernel)",
   "language": "python",
   "name": "python3"
  },
  "language_info": {
   "codemirror_mode": {
    "name": "ipython",
    "version": 3
   },
   "file_extension": ".py",
   "mimetype": "text/x-python",
   "name": "python",
   "nbconvert_exporter": "python",
   "pygments_lexer": "ipython3",
   "version": "3.11.5"
  }
 },
 "nbformat": 4,
 "nbformat_minor": 5
}
