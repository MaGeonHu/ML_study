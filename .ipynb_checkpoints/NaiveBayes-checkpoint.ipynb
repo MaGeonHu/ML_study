{
 "cells": [
  {
   "cell_type": "code",
   "execution_count": 1,
   "id": "accbe136-25ef-4560-be73-d271d2998146",
   "metadata": {},
   "outputs": [],
   "source": [
    "# 베이즈 정리 : observation을 통해 origin data를 알수 있다\n",
    "# 머신러닝 나이브 베이즈 정리에서는 각 feature들이 독립이라는 전제에 실행한다\n",
    "# 가우시안 nb: 실수형 데이터일 경우 사용 , 다중 통계 nb: 카테고리컬 데이터일 경우 사용 "
   ]
  },
  {
   "cell_type": "markdown",
   "id": "71fcbbdf-b9ad-48f9-8f47-31fe9fcc635b",
   "metadata": {},
   "source": [
    "#### sklearn.naive_bayes.GaussianNB\n",
    "* class sklearn.naive_bayes.GaussianNB(*, priors=None, var_smoothing=1e-09)"
   ]
  },
  {
   "cell_type": "code",
   "execution_count": 12,
   "id": "484998c6-7e2d-4832-9b62-e5f200bfe36d",
   "metadata": {},
   "outputs": [],
   "source": [
    "from sklearn.datasets import load_iris\n",
    "from sklearn.naive_bayes import GaussianNB\n",
    "from sklearn.metrics import confusion_matrix,accuracy_score,recall_score,precision_score,f1_score\n",
    "from sklearn.metrics import roc_auc_score, roc_curve\n",
    "from sklearn.model_selection import train_test_split\n",
    "\n",
    "iris = load_iris()\n",
    "\n",
    "X = iris.data\n",
    "y = iris.target\n",
    "\n",
    "X_train,X_test,y_train,y_test = train_test_split(X,y,test_size = 0.2 , random_state = 42)\n",
    "\n",
    "\n"
   ]
  },
  {
   "cell_type": "code",
   "execution_count": 17,
   "id": "3ceb7108-85d7-4ff5-9aca-a553302de2a3",
   "metadata": {},
   "outputs": [],
   "source": [
    "gnb_clf = GaussianNB()\n",
    "gnb_clf.fit(X_train,y_train)\n",
    "pred = gnb_clf.predict(X_test)\n",
    "pred_proba = gnb_clf.predict_proba(X_test)"
   ]
  },
  {
   "cell_type": "code",
   "execution_count": 20,
   "id": "6f7e3942-d65c-4f9b-9905-215f5b360648",
   "metadata": {},
   "outputs": [
    {
     "data": {
      "text/plain": [
       "array([[10,  0,  0],\n",
       "       [ 0,  9,  0],\n",
       "       [ 0,  0, 11]], dtype=int64)"
      ]
     },
     "execution_count": 20,
     "metadata": {},
     "output_type": "execute_result"
    }
   ],
   "source": [
    "confusion_matrix(y_test,pred)"
   ]
  },
  {
   "cell_type": "code",
   "execution_count": 22,
   "id": "d01857ae-64b3-4eef-a40b-df4ed0d4f380",
   "metadata": {},
   "outputs": [
    {
     "data": {
      "text/plain": [
       "1.0"
      ]
     },
     "execution_count": 22,
     "metadata": {},
     "output_type": "execute_result"
    }
   ],
   "source": [
    "accuracy_score(y_test,pred)"
   ]
  },
  {
   "cell_type": "code",
   "execution_count": 31,
   "id": "10fb2e3e-0a20-4eba-b708-54cc761ecdbb",
   "metadata": {},
   "outputs": [
    {
     "data": {
      "text/plain": [
       "1.0"
      ]
     },
     "execution_count": 31,
     "metadata": {},
     "output_type": "execute_result"
    }
   ],
   "source": [
    "precision_score(y_test,pred, average = 'micro')"
   ]
  },
  {
   "cell_type": "code",
   "execution_count": 32,
   "id": "a4c0a21e-3c75-44d4-8945-7f0fd212ac45",
   "metadata": {},
   "outputs": [
    {
     "data": {
      "text/plain": [
       "1.0"
      ]
     },
     "execution_count": 32,
     "metadata": {},
     "output_type": "execute_result"
    }
   ],
   "source": [
    "recall_score(y_test,pred, average = 'micro')"
   ]
  },
  {
   "cell_type": "code",
   "execution_count": 33,
   "id": "98dd58a1-9fc8-4a64-9cf1-d63b2662a30d",
   "metadata": {},
   "outputs": [
    {
     "data": {
      "text/plain": [
       "1.0"
      ]
     },
     "execution_count": 33,
     "metadata": {},
     "output_type": "execute_result"
    }
   ],
   "source": [
    "f1_score(y_test,pred)"
   ]
  }
 ],
 "metadata": {
  "kernelspec": {
   "display_name": "Python 3 (ipykernel)",
   "language": "python",
   "name": "python3"
  },
  "language_info": {
   "codemirror_mode": {
    "name": "ipython",
    "version": 3
   },
   "file_extension": ".py",
   "mimetype": "text/x-python",
   "name": "python",
   "nbconvert_exporter": "python",
   "pygments_lexer": "ipython3",
   "version": "3.11.5"
  }
 },
 "nbformat": 4,
 "nbformat_minor": 5
}
