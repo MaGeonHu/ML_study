{
 "cells": [
  {
   "cell_type": "markdown",
   "id": "4eb75074-2de4-4bbd-994e-7d0fb83fa7fb",
   "metadata": {},
   "source": [
    "#### sklearn.preprocessing.LabelEncoder"
   ]
  },
  {
   "cell_type": "code",
   "execution_count": 8,
   "id": "cdac53a6-24e4-4dbe-8641-caeee80b8471",
   "metadata": {},
   "outputs": [
    {
     "name": "stdout",
     "output_type": "stream",
     "text": [
      "[0 1 4 5 3 3 2 2]\n",
      "['냉장고' '냉장고' '냉장고' '전자렌지' 'TV']\n"
     ]
    }
   ],
   "source": [
    "from sklearn.preprocessing import LabelEncoder\n",
    "\n",
    "items = ['TV','냉장고','전자렌지','컴퓨터','선풍기','선풍기','믹서','믹서']\n",
    "\n",
    "le = LabelEncoder()\n",
    "le.fit(items)\n",
    "print(le.transform(items))\n",
    "print(le.inverse_transform([1,1,1,4,0]))\n",
    "# 가중치가 없는 label인데 label 인코딩할시 가중치가 부여돼서 왜곡될 수 있다.\n",
    "# -> one - hot -encoding을 하면  데이터의 특성을 잘 반영하여 sparse하게 되지만 무거워져 연산 속도가 느려지고 차원의 저주에 걸리며 overfitting, 기울기 소실 문제가 발생할 수 있다.."
   ]
  },
  {
   "cell_type": "markdown",
   "id": "faf2015b-6597-40ce-a757-302d09822eb0",
   "metadata": {},
   "source": [
    "#### sklearn.preprocessing.OneHotEncoder\n",
    "* class sklearn.preprocessing.OneHotEncoder(*, categories='auto', drop=None, sparse_output=True, dtype=<class 'numpy.float64'>, handle_unknown='error', min_frequency=None, max_categories=None, feature_name_combiner='concat')"
   ]
  },
  {
   "cell_type": "code",
   "execution_count": 13,
   "id": "acfc470b-72ea-4331-a445-048d2f3054ab",
   "metadata": {},
   "outputs": [
    {
     "data": {
      "text/plain": [
       "<8x6 sparse matrix of type '<class 'numpy.float64'>'\n",
       "\twith 8 stored elements in Compressed Sparse Row format>"
      ]
     },
     "execution_count": 13,
     "metadata": {},
     "output_type": "execute_result"
    }
   ],
   "source": [
    "from sklearn.preprocessing import OneHotEncoder\n",
    "from sklearn.preprocessing import LabelEncoder\n",
    "enc = OneHotEncoder(handle_unknown='ignore')\n",
    "\n",
    "items = ['TV','냉장고','전자렌지','컴퓨터','선풍기','선풍기','믹서','믹서']\n",
    "\n",
    "le = LabelEncoder()\n",
    "le.fit(items)\n",
    "label_encoded = le.transform(items)\n",
    "\n",
    "label_encoded = label_encoded.reshape(-1,1)\n",
    "enc.fit(label_encoded)\n",
    "enc.transform(label_encoded)\n"
   ]
  },
  {
   "cell_type": "code",
   "execution_count": 15,
   "id": "c2c25d9c-9479-4766-aad2-f3e434f03e5e",
   "metadata": {},
   "outputs": [
    {
     "data": {
      "text/plain": [
       "array([[1., 0., 0., 0., 0., 0.],\n",
       "       [0., 1., 0., 0., 0., 0.],\n",
       "       [0., 0., 0., 0., 1., 0.],\n",
       "       [0., 0., 0., 0., 0., 1.],\n",
       "       [0., 0., 0., 1., 0., 0.],\n",
       "       [0., 0., 0., 1., 0., 0.],\n",
       "       [0., 0., 1., 0., 0., 0.],\n",
       "       [0., 0., 1., 0., 0., 0.]])"
      ]
     },
     "execution_count": 15,
     "metadata": {},
     "output_type": "execute_result"
    }
   ],
   "source": [
    "from sklearn.preprocessing import OneHotEncoder\n",
    "import numpy as np\n",
    "\n",
    "enc = OneHotEncoder(handle_unknown='ignore')\n",
    "\n",
    "items = ['TV','냉장고','전자렌지','컴퓨터','선풍기','선풍기','믹서','믹서']\n",
    "result = np.array(items).reshape(-1,1)\n",
    "enc.fit(result)\n",
    "one_labels = enc.transform(result)\n",
    "one_labels.toarray()"
   ]
  },
  {
   "cell_type": "code",
   "execution_count": null,
   "id": "9b68d422-0ec1-4bf4-b128-fe7d3ee24e3b",
   "metadata": {},
   "outputs": [],
   "source": []
  }
 ],
 "metadata": {
  "kernelspec": {
   "display_name": "Python 3 (ipykernel)",
   "language": "python",
   "name": "python3"
  },
  "language_info": {
   "codemirror_mode": {
    "name": "ipython",
    "version": 3
   },
   "file_extension": ".py",
   "mimetype": "text/x-python",
   "name": "python",
   "nbconvert_exporter": "python",
   "pygments_lexer": "ipython3",
   "version": "3.11.5"
  }
 },
 "nbformat": 4,
 "nbformat_minor": 5
}
