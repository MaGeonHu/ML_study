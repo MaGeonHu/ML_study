{
 "cells": [
  {
   "cell_type": "markdown",
   "id": "366dc7bd-1a96-4549-96b1-06a2f4c2c8d6",
   "metadata": {},
   "source": [
    "##### sklearn.decomposition.TruncatedSVD\n",
    "* class sklearn.decomposition.TruncatedSVD(n_components=2, *, algorithm='randomized', n_iter=5, n_oversamples=10, power_iteration_normalizer='auto', random_state=None, tol=0.0)\n"
   ]
  },
  {
   "cell_type": "code",
   "execution_count": 1,
   "id": "2387f337-29f8-4b1a-9a16-7de63da01526",
   "metadata": {},
   "outputs": [],
   "source": [
    "from sklearn.datasets import load_iris\n",
    "import pandas as pd\n",
    "\n",
    "iris = load_iris()\n",
    "df_iris = pd.DataFrame(data=iris.data,columns=iris.feature_names)\n",
    "\n",
    "df_iris['label'] = iris.target"
   ]
  },
  {
   "cell_type": "code",
   "execution_count": 2,
   "id": "481aed80-8a77-412d-bff2-096cc0b8256f",
   "metadata": {},
   "outputs": [],
   "source": [
    "from sklearn.decomposition import TruncatedSVD"
   ]
  },
  {
   "cell_type": "code",
   "execution_count": 4,
   "id": "a90bf58b-aab7-40fd-97f2-d5da59700df2",
   "metadata": {},
   "outputs": [],
   "source": [
    "tsvd = TruncatedSVD(n_components=2)\n",
    "tsvd.fit(iris.data)\n",
    "svd_X = tsvd.transform(iris.data)"
   ]
  },
  {
   "cell_type": "code",
   "execution_count": 10,
   "id": "c5d51c80-5dd0-4f8b-81d5-784e24e48f80",
   "metadata": {},
   "outputs": [],
   "source": [
    "svd_X_df = pd.DataFrame(svd_X, columns = ['svd_component_1', 'svd_component_2'])"
   ]
  },
  {
   "cell_type": "code",
   "execution_count": 11,
   "id": "799dfb21-0bac-4994-9b69-50f651939d90",
   "metadata": {},
   "outputs": [
    {
     "data": {
      "text/html": [
       "<div>\n",
       "<style scoped>\n",
       "    .dataframe tbody tr th:only-of-type {\n",
       "        vertical-align: middle;\n",
       "    }\n",
       "\n",
       "    .dataframe tbody tr th {\n",
       "        vertical-align: top;\n",
       "    }\n",
       "\n",
       "    .dataframe thead th {\n",
       "        text-align: right;\n",
       "    }\n",
       "</style>\n",
       "<table border=\"1\" class=\"dataframe\">\n",
       "  <thead>\n",
       "    <tr style=\"text-align: right;\">\n",
       "      <th></th>\n",
       "      <th>svd_component_1</th>\n",
       "      <th>svd_component_2</th>\n",
       "    </tr>\n",
       "  </thead>\n",
       "  <tbody>\n",
       "    <tr>\n",
       "      <th>0</th>\n",
       "      <td>5.912747</td>\n",
       "      <td>2.302033</td>\n",
       "    </tr>\n",
       "    <tr>\n",
       "      <th>1</th>\n",
       "      <td>5.572482</td>\n",
       "      <td>1.971826</td>\n",
       "    </tr>\n",
       "    <tr>\n",
       "      <th>2</th>\n",
       "      <td>5.446977</td>\n",
       "      <td>2.095206</td>\n",
       "    </tr>\n",
       "    <tr>\n",
       "      <th>3</th>\n",
       "      <td>5.436459</td>\n",
       "      <td>1.870382</td>\n",
       "    </tr>\n",
       "    <tr>\n",
       "      <th>4</th>\n",
       "      <td>5.875645</td>\n",
       "      <td>2.328290</td>\n",
       "    </tr>\n",
       "    <tr>\n",
       "      <th>...</th>\n",
       "      <td>...</td>\n",
       "      <td>...</td>\n",
       "    </tr>\n",
       "    <tr>\n",
       "      <th>145</th>\n",
       "      <td>9.226517</td>\n",
       "      <td>-0.931293</td>\n",
       "    </tr>\n",
       "    <tr>\n",
       "      <th>146</th>\n",
       "      <td>8.566265</td>\n",
       "      <td>-1.039134</td>\n",
       "    </tr>\n",
       "    <tr>\n",
       "      <th>147</th>\n",
       "      <td>9.025923</td>\n",
       "      <td>-0.885027</td>\n",
       "    </tr>\n",
       "    <tr>\n",
       "      <th>148</th>\n",
       "      <td>9.105599</td>\n",
       "      <td>-0.996416</td>\n",
       "    </tr>\n",
       "    <tr>\n",
       "      <th>149</th>\n",
       "      <td>8.490375</td>\n",
       "      <td>-0.915931</td>\n",
       "    </tr>\n",
       "  </tbody>\n",
       "</table>\n",
       "<p>150 rows × 2 columns</p>\n",
       "</div>"
      ],
      "text/plain": [
       "     svd_component_1  svd_component_2\n",
       "0           5.912747         2.302033\n",
       "1           5.572482         1.971826\n",
       "2           5.446977         2.095206\n",
       "3           5.436459         1.870382\n",
       "4           5.875645         2.328290\n",
       "..               ...              ...\n",
       "145         9.226517        -0.931293\n",
       "146         8.566265        -1.039134\n",
       "147         9.025923        -0.885027\n",
       "148         9.105599        -0.996416\n",
       "149         8.490375        -0.915931\n",
       "\n",
       "[150 rows x 2 columns]"
      ]
     },
     "execution_count": 11,
     "metadata": {},
     "output_type": "execute_result"
    }
   ],
   "source": [
    "svd_X_df"
   ]
  }
 ],
 "metadata": {
  "kernelspec": {
   "display_name": "Python 3 (ipykernel)",
   "language": "python",
   "name": "python3"
  },
  "language_info": {
   "codemirror_mode": {
    "name": "ipython",
    "version": 3
   },
   "file_extension": ".py",
   "mimetype": "text/x-python",
   "name": "python",
   "nbconvert_exporter": "python",
   "pygments_lexer": "ipython3",
   "version": "3.11.5"
  }
 },
 "nbformat": 4,
 "nbformat_minor": 5
}
